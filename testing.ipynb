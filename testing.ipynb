{
 "cells": [
  {
   "cell_type": "code",
   "execution_count": 37,
   "metadata": {},
   "outputs": [],
   "source": [
    "import tensorflow as tf\n",
    "import pandas as pd\n",
    "import os\n",
    "import numpy as np\n",
    "import matplotlib.pyplot as plt"
   ]
  },
  {
   "cell_type": "code",
   "execution_count": 38,
   "metadata": {},
   "outputs": [],
   "source": [
    "image_dir = \"./clothes_data\"\n",
    "model_dir = \"./models\""
   ]
  },
  {
   "cell_type": "code",
   "execution_count": 39,
   "metadata": {},
   "outputs": [
    {
     "name": "stdout",
     "output_type": "stream",
     "text": [
      "['Shirt', 'T-Shirt', '上半身 Top', '下半身 Bottom', '休閒褲/裙 casual pants/skirt', '吊帶褲/裙 overalls/jumper skirt', '外套 Jacket', '工裝褲/裙 cargo pants/skirt', '毛衣、針織衣 Sweater', '洋裝 Dress', '牛仔材質 Denim', '牛仔褲/裙 jeans / demi skirt', '百褶裙 pleated skirt', '網紗 Mesh', '緊身褲 leggings', '羽絨衣 Down coat / jacket', '背心 Vest', '裙子 skirt', '褲子 pants', '西裝 Suit', '西裝褲、裙 dress pants、skirt', '連帽衣 Hoodie', '運動材質 Sport Tops', '運動褲/裙 sweat pants / sports skirt']\n",
      "['50 percent', 'AIR SPACE', 'Adidas', 'Caco', 'GAP', 'H&M', 'Lativ', 'Net', 'New Balance', 'Nike', 'PAZZO', 'Puma', 'Queen Shop', 'Timberland', 'Under Armour', 'Uniqlo']\n"
     ]
    }
   ],
   "source": [
    "feature_list = list(pd.read_csv(\"feature_list.csv\")[\"name\"])\n",
    "print(feature_list)\n",
    "brand_list = list(pd.read_csv(\"brand_list.csv\")[\"brand\"])\n",
    "print(brand_list)"
   ]
  },
  {
   "cell_type": "code",
   "execution_count": 40,
   "metadata": {},
   "outputs": [],
   "source": [
    "from tensorflow.keras.preprocessing.image import load_img, img_to_array\n",
    "\n",
    "img_height, img_width = 180, 180\n",
    "\n",
    "\n",
    "def load_and_preprocess_image(filepath):\n",
    "    img = load_img(filepath, target_size=(img_height, img_width))\n",
    "    img_array = img_to_array(img) / 255.0\n",
    "    return img_array"
   ]
  },
  {
   "cell_type": "code",
   "execution_count": null,
   "metadata": {},
   "outputs": [],
   "source": [
    "from tensorflow.keras.models import load_model\n",
    "\n",
    "\n",
    "def predict_one_feature(test_image, feature_id):\n",
    "    try:\n",
    "        id = 0\n",
    "        loaded_model = load_model(\n",
    "            os.path.join(model_dir, f\"model_feature_{feature_id}_{id}.keras\")\n",
    "        )\n",
    "        test_image = np.expand_dims(test_image, axis=0)\n",
    "        prediction = loaded_model.predict(test_image, verbose=0)\n",
    "        return 1 if prediction[0][0] > 0.5 else 0\n",
    "    except Exception as e:\n",
    "        print(e)\n",
    "        return 0\n",
    "\n",
    "\n",
    "def predict_brand(test_image):\n",
    "    try:\n",
    "        id = 0\n",
    "        loaded_model = load_model(os.path.join(model_dir, f\"model_brand_{id}.keras\"))\n",
    "        test_image = np.expand_dims(test_image, axis=0)\n",
    "        prediction = loaded_model.predict(test_image, verbose=0)\n",
    "        predicted_classes = np.argmax(prediction, axis=1)\n",
    "        brand = brand_list[int(predicted_classes)]\n",
    "        print(\"predict brand:\", brand)\n",
    "        return predicted_classes\n",
    "    except Exception as e:\n",
    "        print(e)\n",
    "        pass\n",
    "\n",
    "\n",
    "def predict_length(test_image):\n",
    "    try:\n",
    "        id = 0\n",
    "        loaded_model = load_model(os.path.join(model_dir, f\"model_length_{id}.keras\"))\n",
    "        test_image = np.expand_dims(test_image, axis=0)\n",
    "        prediction = loaded_model.predict(test_image, verbose=0)\n",
    "        return 1 if prediction[0][0] > 0.5 else 0\n",
    "    except Exception as e:\n",
    "        print(e)\n",
    "        pass"
   ]
  },
  {
   "cell_type": "code",
   "execution_count": 42,
   "metadata": {},
   "outputs": [],
   "source": [
    "def predict_all(test_img):\n",
    "    predictions = {}\n",
    "    brand = predict_brand(test_img)\n",
    "    for i in range(len(brand_list)):\n",
    "        predictions[f\"品牌 Brand_{i}\"] = 1 if brand == i else 0\n",
    "    # predictions[\"brand\"] = brand\n",
    "    for i in range(len(feature_list)):\n",
    "        feature = feature_list[i]\n",
    "        pred = predict_one_feature(test_img, i)\n",
    "        predictions[feature] = pred\n",
    "    print(\"predictions:\", predictions)\n",
    "    predictions_df = pd.DataFrame([predictions])\n",
    "    predictions_df = predictions_df[sorted(predictions_df.columns)]\n",
    "    return predictions_df"
   ]
  },
  {
   "cell_type": "code",
   "execution_count": 43,
   "metadata": {},
   "outputs": [],
   "source": [
    "from joblib import load\n",
    "import pickle\n",
    "\n",
    "\n",
    "def predict_price(classify_res, model_type=\"rf\"):\n",
    "\n",
    "    if model_type == \"nn\":\n",
    "        loaded_model = load_model(os.path.join(model_dir, f\"model_prediction.keras\"))\n",
    "        price = loaded_model.predict(classify_res, verbose=0)\n",
    "    else:\n",
    "        # Load the model using pickle\n",
    "        with open(\"./models/random_forest_model.pkl\", \"rb\") as f:\n",
    "            loaded_model = pickle.load(f)\n",
    "        loaded_model = load(\"./models/random_forest_model.joblib\")\n",
    "        price = loaded_model.predict(classify_res)\n",
    "    return price"
   ]
  },
  {
   "cell_type": "code",
   "execution_count": 47,
   "metadata": {},
   "outputs": [],
   "source": [
    "df = pd.read_csv(\"processed.csv\")\n",
    "df = df.loc[:, ~df.columns.str.contains(\"^Unnamed\")]\n",
    "df = df.drop(df.index[df.index % 10 != 0])\n",
    "df[\"filepath\"] = df[\"照片 Picture\"].apply(lambda x: os.path.join(image_dir, f\"{x}\"))\n",
    "test_num = 5\n",
    "df = df.sample(n=test_num)"
   ]
  },
  {
   "cell_type": "code",
   "execution_count": null,
   "metadata": {},
   "outputs": [
    {
     "name": "stdout",
     "output_type": "stream",
     "text": [
      "770 AIR SPACE ./clothes_data\\image_00770.jpg 490\n"
     ]
    },
    {
     "name": "stderr",
     "output_type": "stream",
     "text": [
      "C:\\Users\\doo12\\AppData\\Local\\Temp\\ipykernel_15348\\1499496932.py:25: DeprecationWarning: Conversion of an array with ndim > 0 to a scalar is deprecated, and will error in future. Ensure you extract a single element from your array before performing this operation. (Deprecated NumPy 1.25.)\n",
      "  brand = brand_list[int(predicted_classes)]\n"
     ]
    },
    {
     "name": "stdout",
     "output_type": "stream",
     "text": [
      "brand: AIR SPACE\n",
      "File not found: filepath=./models\\model_feature_8_0.keras. Please ensure the file is an accessible `.keras` zip file.\n",
      "File not found: filepath=./models\\model_feature_9_0.keras. Please ensure the file is an accessible `.keras` zip file.\n",
      "File not found: filepath=./models\\model_feature_10_0.keras. Please ensure the file is an accessible `.keras` zip file.\n",
      "File not found: filepath=./models\\model_feature_11_0.keras. Please ensure the file is an accessible `.keras` zip file.\n",
      "File not found: filepath=./models\\model_feature_16_0.keras. Please ensure the file is an accessible `.keras` zip file.\n",
      "File not found: filepath=./models\\model_feature_17_0.keras. Please ensure the file is an accessible `.keras` zip file.\n",
      "File not found: filepath=./models\\model_feature_18_0.keras. Please ensure the file is an accessible `.keras` zip file.\n",
      "File not found: filepath=./models\\model_feature_19_0.keras. Please ensure the file is an accessible `.keras` zip file.\n",
      "File not found: filepath=./models\\model_feature_20_0.keras. Please ensure the file is an accessible `.keras` zip file.\n",
      "File not found: filepath=./models\\model_feature_21_0.keras. Please ensure the file is an accessible `.keras` zip file.\n",
      "File not found: filepath=./models\\model_feature_22_0.keras. Please ensure the file is an accessible `.keras` zip file.\n",
      "File not found: filepath=./models\\model_feature_23_0.keras. Please ensure the file is an accessible `.keras` zip file.\n",
      "predictions: {'品牌 Brand_0': 0, '品牌 Brand_1': 1, '品牌 Brand_2': 0, '品牌 Brand_3': 0, '品牌 Brand_4': 0, '品牌 Brand_5': 0, '品牌 Brand_6': 0, '品牌 Brand_7': 0, '品牌 Brand_8': 0, '品牌 Brand_9': 0, '品牌 Brand_10': 0, '品牌 Brand_11': 0, '品牌 Brand_12': 0, '品牌 Brand_13': 0, '品牌 Brand_14': 0, '品牌 Brand_15': 0, 'Shirt': 0, 'T-Shirt': 0, '上半身 Top': 1, '下半身 Bottom': 0, '休閒褲/裙 casual pants/skirt': 0, '吊帶褲/裙 overalls/jumper skirt': 0, '外套 Jacket': 0, '工裝褲/裙 cargo pants/skirt': 0, '毛衣、針織衣 Sweater': 0, '洋裝 Dress': 0, '牛仔材質 Denim': 0, '牛仔褲/裙 jeans / demi skirt': 0, '百褶裙 pleated skirt': 0, '網紗 Mesh': 0, '緊身褲 leggings': 0, '羽絨衣 Down coat / jacket': 0, '背心 Vest': 0, '裙子 skirt': 0, '褲子 pants': 0, '西裝 Suit': 0, '西裝褲、裙 dress pants、skirt': 0, '連帽衣 Hoodie': 0, '運動材質 Sport Tops': 0, '運動褲/裙 sweat pants / sports skirt': 0}\n",
      "price: [[519.15485]] [748.03938613]\n",
      "2470 Caco ./clothes_data\\image_02470.jpg 590\n"
     ]
    },
    {
     "name": "stderr",
     "output_type": "stream",
     "text": [
      "C:\\Users\\doo12\\AppData\\Local\\Temp\\ipykernel_15348\\1499496932.py:25: DeprecationWarning: Conversion of an array with ndim > 0 to a scalar is deprecated, and will error in future. Ensure you extract a single element from your array before performing this operation. (Deprecated NumPy 1.25.)\n",
      "  brand = brand_list[int(predicted_classes)]\n"
     ]
    },
    {
     "name": "stdout",
     "output_type": "stream",
     "text": [
      "brand: Caco\n",
      "File not found: filepath=./models\\model_feature_8_0.keras. Please ensure the file is an accessible `.keras` zip file.\n",
      "File not found: filepath=./models\\model_feature_9_0.keras. Please ensure the file is an accessible `.keras` zip file.\n",
      "File not found: filepath=./models\\model_feature_10_0.keras. Please ensure the file is an accessible `.keras` zip file.\n",
      "File not found: filepath=./models\\model_feature_11_0.keras. Please ensure the file is an accessible `.keras` zip file.\n",
      "File not found: filepath=./models\\model_feature_16_0.keras. Please ensure the file is an accessible `.keras` zip file.\n",
      "File not found: filepath=./models\\model_feature_17_0.keras. Please ensure the file is an accessible `.keras` zip file.\n",
      "File not found: filepath=./models\\model_feature_18_0.keras. Please ensure the file is an accessible `.keras` zip file.\n",
      "File not found: filepath=./models\\model_feature_19_0.keras. Please ensure the file is an accessible `.keras` zip file.\n",
      "File not found: filepath=./models\\model_feature_20_0.keras. Please ensure the file is an accessible `.keras` zip file.\n",
      "File not found: filepath=./models\\model_feature_21_0.keras. Please ensure the file is an accessible `.keras` zip file.\n",
      "File not found: filepath=./models\\model_feature_22_0.keras. Please ensure the file is an accessible `.keras` zip file.\n",
      "File not found: filepath=./models\\model_feature_23_0.keras. Please ensure the file is an accessible `.keras` zip file.\n",
      "predictions: {'品牌 Brand_0': 0, '品牌 Brand_1': 0, '品牌 Brand_2': 0, '品牌 Brand_3': 1, '品牌 Brand_4': 0, '品牌 Brand_5': 0, '品牌 Brand_6': 0, '品牌 Brand_7': 0, '品牌 Brand_8': 0, '品牌 Brand_9': 0, '品牌 Brand_10': 0, '品牌 Brand_11': 0, '品牌 Brand_12': 0, '品牌 Brand_13': 0, '品牌 Brand_14': 0, '品牌 Brand_15': 0, 'Shirt': 0, 'T-Shirt': 0, '上半身 Top': 0, '下半身 Bottom': 1, '休閒褲/裙 casual pants/skirt': 0, '吊帶褲/裙 overalls/jumper skirt': 0, '外套 Jacket': 0, '工裝褲/裙 cargo pants/skirt': 0, '毛衣、針織衣 Sweater': 0, '洋裝 Dress': 0, '牛仔材質 Denim': 0, '牛仔褲/裙 jeans / demi skirt': 0, '百褶裙 pleated skirt': 1, '網紗 Mesh': 0, '緊身褲 leggings': 0, '羽絨衣 Down coat / jacket': 0, '背心 Vest': 0, '裙子 skirt': 0, '褲子 pants': 0, '西裝 Suit': 0, '西裝褲、裙 dress pants、skirt': 0, '連帽衣 Hoodie': 0, '運動材質 Sport Tops': 0, '運動褲/裙 sweat pants / sports skirt': 0}\n",
      "price: [[783.1923]] [805.61398009]\n",
      "1060 H&M ./clothes_data\\image_01060.jpg 499\n"
     ]
    },
    {
     "name": "stderr",
     "output_type": "stream",
     "text": [
      "C:\\Users\\doo12\\AppData\\Local\\Temp\\ipykernel_15348\\1499496932.py:25: DeprecationWarning: Conversion of an array with ndim > 0 to a scalar is deprecated, and will error in future. Ensure you extract a single element from your array before performing this operation. (Deprecated NumPy 1.25.)\n",
      "  brand = brand_list[int(predicted_classes)]\n"
     ]
    },
    {
     "name": "stdout",
     "output_type": "stream",
     "text": [
      "brand: H&M\n",
      "File not found: filepath=./models\\model_feature_8_0.keras. Please ensure the file is an accessible `.keras` zip file.\n",
      "File not found: filepath=./models\\model_feature_9_0.keras. Please ensure the file is an accessible `.keras` zip file.\n",
      "File not found: filepath=./models\\model_feature_10_0.keras. Please ensure the file is an accessible `.keras` zip file.\n",
      "File not found: filepath=./models\\model_feature_11_0.keras. Please ensure the file is an accessible `.keras` zip file.\n",
      "File not found: filepath=./models\\model_feature_16_0.keras. Please ensure the file is an accessible `.keras` zip file.\n",
      "File not found: filepath=./models\\model_feature_17_0.keras. Please ensure the file is an accessible `.keras` zip file.\n",
      "File not found: filepath=./models\\model_feature_18_0.keras. Please ensure the file is an accessible `.keras` zip file.\n",
      "File not found: filepath=./models\\model_feature_19_0.keras. Please ensure the file is an accessible `.keras` zip file.\n",
      "File not found: filepath=./models\\model_feature_20_0.keras. Please ensure the file is an accessible `.keras` zip file.\n",
      "File not found: filepath=./models\\model_feature_21_0.keras. Please ensure the file is an accessible `.keras` zip file.\n",
      "File not found: filepath=./models\\model_feature_22_0.keras. Please ensure the file is an accessible `.keras` zip file.\n",
      "File not found: filepath=./models\\model_feature_23_0.keras. Please ensure the file is an accessible `.keras` zip file.\n",
      "predictions: {'品牌 Brand_0': 0, '品牌 Brand_1': 0, '品牌 Brand_2': 0, '品牌 Brand_3': 0, '品牌 Brand_4': 0, '品牌 Brand_5': 1, '品牌 Brand_6': 0, '品牌 Brand_7': 0, '品牌 Brand_8': 0, '品牌 Brand_9': 0, '品牌 Brand_10': 0, '品牌 Brand_11': 0, '品牌 Brand_12': 0, '品牌 Brand_13': 0, '品牌 Brand_14': 0, '品牌 Brand_15': 0, 'Shirt': 0, 'T-Shirt': 0, '上半身 Top': 0, '下半身 Bottom': 0, '休閒褲/裙 casual pants/skirt': 0, '吊帶褲/裙 overalls/jumper skirt': 0, '外套 Jacket': 0, '工裝褲/裙 cargo pants/skirt': 0, '毛衣、針織衣 Sweater': 0, '洋裝 Dress': 0, '牛仔材質 Denim': 0, '牛仔褲/裙 jeans / demi skirt': 0, '百褶裙 pleated skirt': 0, '網紗 Mesh': 0, '緊身褲 leggings': 0, '羽絨衣 Down coat / jacket': 0, '背心 Vest': 0, '裙子 skirt': 0, '褲子 pants': 0, '西裝 Suit': 0, '西裝褲、裙 dress pants、skirt': 0, '連帽衣 Hoodie': 0, '運動材質 Sport Tops': 0, '運動褲/裙 sweat pants / sports skirt': 0}\n",
      "price: [[564.27856]] [787.6532164]\n",
      "1700 Under Armour ./clothes_data\\image_01700.jpg 2111\n"
     ]
    },
    {
     "name": "stderr",
     "output_type": "stream",
     "text": [
      "C:\\Users\\doo12\\AppData\\Local\\Temp\\ipykernel_15348\\1499496932.py:25: DeprecationWarning: Conversion of an array with ndim > 0 to a scalar is deprecated, and will error in future. Ensure you extract a single element from your array before performing this operation. (Deprecated NumPy 1.25.)\n",
      "  brand = brand_list[int(predicted_classes)]\n"
     ]
    },
    {
     "name": "stdout",
     "output_type": "stream",
     "text": [
      "brand: Under Armour\n",
      "File not found: filepath=./models\\model_feature_8_0.keras. Please ensure the file is an accessible `.keras` zip file.\n",
      "File not found: filepath=./models\\model_feature_9_0.keras. Please ensure the file is an accessible `.keras` zip file.\n",
      "File not found: filepath=./models\\model_feature_10_0.keras. Please ensure the file is an accessible `.keras` zip file.\n",
      "File not found: filepath=./models\\model_feature_11_0.keras. Please ensure the file is an accessible `.keras` zip file.\n",
      "File not found: filepath=./models\\model_feature_16_0.keras. Please ensure the file is an accessible `.keras` zip file.\n",
      "File not found: filepath=./models\\model_feature_17_0.keras. Please ensure the file is an accessible `.keras` zip file.\n",
      "File not found: filepath=./models\\model_feature_18_0.keras. Please ensure the file is an accessible `.keras` zip file.\n",
      "File not found: filepath=./models\\model_feature_19_0.keras. Please ensure the file is an accessible `.keras` zip file.\n",
      "File not found: filepath=./models\\model_feature_20_0.keras. Please ensure the file is an accessible `.keras` zip file.\n",
      "File not found: filepath=./models\\model_feature_21_0.keras. Please ensure the file is an accessible `.keras` zip file.\n",
      "File not found: filepath=./models\\model_feature_22_0.keras. Please ensure the file is an accessible `.keras` zip file.\n",
      "File not found: filepath=./models\\model_feature_23_0.keras. Please ensure the file is an accessible `.keras` zip file.\n",
      "predictions: {'品牌 Brand_0': 0, '品牌 Brand_1': 0, '品牌 Brand_2': 0, '品牌 Brand_3': 0, '品牌 Brand_4': 0, '品牌 Brand_5': 0, '品牌 Brand_6': 0, '品牌 Brand_7': 0, '品牌 Brand_8': 0, '品牌 Brand_9': 0, '品牌 Brand_10': 0, '品牌 Brand_11': 0, '品牌 Brand_12': 0, '品牌 Brand_13': 0, '品牌 Brand_14': 1, '品牌 Brand_15': 0, 'Shirt': 0, 'T-Shirt': 0, '上半身 Top': 1, '下半身 Bottom': 0, '休閒褲/裙 casual pants/skirt': 0, '吊帶褲/裙 overalls/jumper skirt': 0, '外套 Jacket': 1, '工裝褲/裙 cargo pants/skirt': 0, '毛衣、針織衣 Sweater': 0, '洋裝 Dress': 0, '牛仔材質 Denim': 0, '牛仔褲/裙 jeans / demi skirt': 0, '百褶裙 pleated skirt': 0, '網紗 Mesh': 0, '緊身褲 leggings': 0, '羽絨衣 Down coat / jacket': 1, '背心 Vest': 0, '裙子 skirt': 0, '褲子 pants': 0, '西裝 Suit': 0, '西裝褲、裙 dress pants、skirt': 0, '連帽衣 Hoodie': 0, '運動材質 Sport Tops': 0, '運動褲/裙 sweat pants / sports skirt': 0}\n",
      "price: [[5116.8057]] [4729.31392085]\n",
      "40 H&M ./clothes_data\\image_00040.jpg 599\n"
     ]
    },
    {
     "name": "stderr",
     "output_type": "stream",
     "text": [
      "C:\\Users\\doo12\\AppData\\Local\\Temp\\ipykernel_15348\\1499496932.py:25: DeprecationWarning: Conversion of an array with ndim > 0 to a scalar is deprecated, and will error in future. Ensure you extract a single element from your array before performing this operation. (Deprecated NumPy 1.25.)\n",
      "  brand = brand_list[int(predicted_classes)]\n"
     ]
    },
    {
     "name": "stdout",
     "output_type": "stream",
     "text": [
      "brand: H&M\n",
      "File not found: filepath=./models\\model_feature_8_0.keras. Please ensure the file is an accessible `.keras` zip file.\n",
      "File not found: filepath=./models\\model_feature_9_0.keras. Please ensure the file is an accessible `.keras` zip file.\n",
      "File not found: filepath=./models\\model_feature_10_0.keras. Please ensure the file is an accessible `.keras` zip file.\n",
      "File not found: filepath=./models\\model_feature_11_0.keras. Please ensure the file is an accessible `.keras` zip file.\n",
      "File not found: filepath=./models\\model_feature_16_0.keras. Please ensure the file is an accessible `.keras` zip file.\n",
      "File not found: filepath=./models\\model_feature_17_0.keras. Please ensure the file is an accessible `.keras` zip file.\n",
      "File not found: filepath=./models\\model_feature_18_0.keras. Please ensure the file is an accessible `.keras` zip file.\n",
      "File not found: filepath=./models\\model_feature_19_0.keras. Please ensure the file is an accessible `.keras` zip file.\n",
      "File not found: filepath=./models\\model_feature_20_0.keras. Please ensure the file is an accessible `.keras` zip file.\n",
      "File not found: filepath=./models\\model_feature_21_0.keras. Please ensure the file is an accessible `.keras` zip file.\n",
      "File not found: filepath=./models\\model_feature_22_0.keras. Please ensure the file is an accessible `.keras` zip file.\n",
      "File not found: filepath=./models\\model_feature_23_0.keras. Please ensure the file is an accessible `.keras` zip file.\n",
      "predictions: {'品牌 Brand_0': 0, '品牌 Brand_1': 0, '品牌 Brand_2': 0, '品牌 Brand_3': 0, '品牌 Brand_4': 0, '品牌 Brand_5': 1, '品牌 Brand_6': 0, '品牌 Brand_7': 0, '品牌 Brand_8': 0, '品牌 Brand_9': 0, '品牌 Brand_10': 0, '品牌 Brand_11': 0, '品牌 Brand_12': 0, '品牌 Brand_13': 0, '品牌 Brand_14': 0, '品牌 Brand_15': 0, 'Shirt': 0, 'T-Shirt': 0, '上半身 Top': 1, '下半身 Bottom': 0, '休閒褲/裙 casual pants/skirt': 0, '吊帶褲/裙 overalls/jumper skirt': 0, '外套 Jacket': 0, '工裝褲/裙 cargo pants/skirt': 0, '毛衣、針織衣 Sweater': 0, '洋裝 Dress': 0, '牛仔材質 Denim': 0, '牛仔褲/裙 jeans / demi skirt': 0, '百褶裙 pleated skirt': 0, '網紗 Mesh': 0, '緊身褲 leggings': 0, '羽絨衣 Down coat / jacket': 0, '背心 Vest': 0, '裙子 skirt': 0, '褲子 pants': 0, '西裝 Suit': 0, '西裝褲、裙 dress pants、skirt': 0, '連帽衣 Hoodie': 0, '運動材質 Sport Tops': 0, '運動褲/裙 sweat pants / sports skirt': 0}\n",
      "price: [[617.40063]] [784.30934318]\n",
      "mae: [[662.3664]] [713.18596933]\n"
     ]
    }
   ],
   "source": [
    "mae_nn = 0\n",
    "mae_rf = 0\n",
    "for id, filepath, ans, brand in zip(\n",
    "    df.index, df[\"filepath\"], df[\"價格 Price\"], df[\"品牌 Brand\"]\n",
    "):\n",
    "    print(id, brand, filepath, ans)\n",
    "    img = load_and_preprocess_image(filepath)\n",
    "    # plt.imshow(img)\n",
    "    pred = predict_all(img)\n",
    "    price_nn = predict_price(pred, \"nn\")\n",
    "    price_rf = predict_price(pred, \"rf\")\n",
    "    print(\"price(nn, rf):\", price_nn, price_rf)\n",
    "    dif_nn = abs(price_nn - ans)\n",
    "    dif_rf = abs(price_rf - ans)\n",
    "    mae_nn += dif_nn\n",
    "    mae_rf += dif_rf\n",
    "\n",
    "mae_nn /= test_num\n",
    "mae_rf /= test_num\n",
    "print(\"mae(nn, rf):\", mae_nn, mae_rf)"
   ]
  }
 ],
 "metadata": {
  "kernelspec": {
   "display_name": "Python 3",
   "language": "python",
   "name": "python3"
  },
  "language_info": {
   "codemirror_mode": {
    "name": "ipython",
    "version": 3
   },
   "file_extension": ".py",
   "mimetype": "text/x-python",
   "name": "python",
   "nbconvert_exporter": "python",
   "pygments_lexer": "ipython3",
   "version": "3.12.7"
  }
 },
 "nbformat": 4,
 "nbformat_minor": 2
}
