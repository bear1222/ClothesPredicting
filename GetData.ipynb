{
 "cells": [
  {
   "cell_type": "code",
   "execution_count": 2,
   "metadata": {},
   "outputs": [],
   "source": [
    "import gdown\n",
    "import pandas as pd\n",
    "import os\n",
    "import csv\n",
    "import re"
   ]
  },
  {
   "cell_type": "code",
   "execution_count": 3,
   "metadata": {},
   "outputs": [],
   "source": [
    "def download_csv():\n",
    "    sheet_url = \"https://docs.google.com/spreadsheets/d/1vYD9nyEoI2CEWu2UY2xpedC_4mX3TUVD-XLCjOLphiA/export?format=csv\"\n",
    "\n",
    "    # Load the CSV into a DataFrame\n",
    "    df = pd.read_csv(sheet_url)\n",
    "    df.to_csv(\"form.csv\")\n",
    "    # print(df)"
   ]
  },
  {
   "cell_type": "code",
   "execution_count": 20,
   "metadata": {},
   "outputs": [],
   "source": [
    "download_csv()"
   ]
  },
  {
   "cell_type": "code",
   "execution_count": 21,
   "metadata": {},
   "outputs": [],
   "source": [
    "original_csv = \"form.csv\"\n",
    "processed_csv = \"processed.csv\"\n",
    "clothes_folder = \"clothes_data\"\n",
    "possible_columns = [\n",
    "    \"服裝部位 Clothing Part\",\n",
    "    \"上半身 衣服種類 Top Clothing Type\",\n",
    "    \"下半身衣服種類 Bottom Clothing Type\",\n",
    "]"
   ]
  },
  {
   "cell_type": "code",
   "execution_count": 22,
   "metadata": {},
   "outputs": [],
   "source": [
    "df = pd.read_csv(original_csv)\n",
    "df = df.loc[:, ~df.columns.str.contains(\"^Unnamed\")]\n",
    "df2 = df.drop(\"時間戳記\", axis=1)\n",
    "for col in possible_columns:\n",
    "    df2 = df2.drop(col, axis=1)"
   ]
  },
  {
   "cell_type": "code",
   "execution_count": 24,
   "metadata": {},
   "outputs": [
    {
     "name": "stdout",
     "output_type": "stream",
     "text": [
      "洋裝 Dress\n",
      "網紗 Mesh\n",
      "休閒褲/裙 casual pants/skirt\n",
      "牛仔褲/裙 jeans / demi skirt\n",
      "工裝褲/裙 cargo pants/skirt\n",
      "毛衣、針/織衣 Sweater\n",
      "連帽衣 Hoodie\n",
      "羽絨衣 Down coat / jacket\n",
      "裙子 skirt\n",
      "T-Shirt\n",
      "百褶裙 pleated skirt\n",
      "運動褲/裙 sweat pants / sports skirt\n",
      "西裝 Suit\n",
      "下半身 Bottom\n",
      "背心 Vest\n",
      "西裝褲、裙 dress pants、skirt\n",
      "外套 Jacket\n",
      "吊帶褲/裙 overalls/jumper skirt\n",
      "運動材質 Sport Tops\n",
      "Shirt\n",
      "毛衣、針織衣 Sweater\n",
      "上半身 Top\n",
      "緊身褲 leggings\n",
      "褲子 pants\n",
      "24\n"
     ]
    }
   ],
   "source": [
    "# get all feature\n",
    "all_features = []\n",
    "for index, row in df.iterrows():\n",
    "    for col in possible_columns:\n",
    "        str = df.loc[index, col]\n",
    "        try:\n",
    "            str = list(str.split(\",\"))\n",
    "            for s in str:\n",
    "                s = s.rstrip()\n",
    "                s = s.lstrip()\n",
    "                if (\n",
    "                    s == \"針織衣 Sweater\"\n",
    "                    or s == \"毛衣 Sweater\"\n",
    "                    or s == \"針/織衣 Sweater\"\n",
    "                ):\n",
    "                    s = \"毛衣、針織衣 Sweater\"\n",
    "                if s == \"西裝褲 dress pants\":\n",
    "                    str.append(\"褲子 pants\")\n",
    "                    s = \"西裝褲、裙 dress pants、skirt\"\n",
    "                all_features.append(s)\n",
    "        except:\n",
    "            pass\n",
    "all_features = set(all_features)\n",
    "for f in all_features:\n",
    "    print(f)\n",
    "print(len(all_features))"
   ]
  },
  {
   "cell_type": "code",
   "execution_count": 25,
   "metadata": {},
   "outputs": [
    {
     "name": "stdout",
     "output_type": "stream",
     "text": [
      "                                             照片 Picture     品牌 Brand  \\\n",
      "0     https://drive.google.com/open?id=1Ki8gALrL6WEy...          H&M   \n",
      "1     https://drive.google.com/open?id=1rsB7XhHjAww6...          H&M   \n",
      "2     https://drive.google.com/open?id=1BEUPTgjmZ0uZ...          H&M   \n",
      "3     https://drive.google.com/open?id=12MW0xvZVVNVo...          H&M   \n",
      "4     https://drive.google.com/open?id=1rj0PNtlTPp5O...          H&M   \n",
      "...                                                 ...          ...   \n",
      "1408  https://drive.google.com/open?id=1J4cTA_SGx-dl...  New Balance   \n",
      "1409  https://drive.google.com/open?id=1720Blp7ssTFe...  New Balance   \n",
      "1410  https://drive.google.com/open?id=1xsdvpRxTNXOn...  New Balance   \n",
      "1411  https://drive.google.com/open?id=13pqfc9SdibC_...  New Balance   \n",
      "1412  https://drive.google.com/open?id=1hC-fezhwHUuS...  New Balance   \n",
      "\n",
      "     衣服長度 Clothes Length  價格 Price  洋裝 Dress  網紗 Mesh  \\\n",
      "0                短 short       499       0.0      0.0   \n",
      "1                 長 long       999       0.0      0.0   \n",
      "2                 長 long       699       1.0      0.0   \n",
      "3                 長 long       999       0.0      0.0   \n",
      "4                 長 long       699       0.0      0.0   \n",
      "...                  ...       ...       ...      ...   \n",
      "1408              長 long      4280       0.0      0.0   \n",
      "1409              長 long      4280       0.0      0.0   \n",
      "1410              長 long      4280       0.0      0.0   \n",
      "1411              長 long      3680       0.0      0.0   \n",
      "1412              長 long      3680       0.0      0.0   \n",
      "\n",
      "      休閒褲/裙 casual pants/skirt  牛仔褲/裙 jeans / demi skirt  \\\n",
      "0                          0.0                       0.0   \n",
      "1                          0.0                       0.0   \n",
      "2                          0.0                       0.0   \n",
      "3                          0.0                       0.0   \n",
      "4                          0.0                       0.0   \n",
      "...                        ...                       ...   \n",
      "1408                       0.0                       0.0   \n",
      "1409                       0.0                       0.0   \n",
      "1410                       0.0                       0.0   \n",
      "1411                       1.0                       0.0   \n",
      "1412                       1.0                       0.0   \n",
      "\n",
      "      工裝褲/裙 cargo pants/skirt  毛衣、針/織衣 Sweater  ...  背心 Vest  \\\n",
      "0                         0.0              0.0  ...      0.0   \n",
      "1                         0.0              0.0  ...      0.0   \n",
      "2                         0.0              0.0  ...      0.0   \n",
      "3                         0.0              0.0  ...      0.0   \n",
      "4                         1.0              0.0  ...      0.0   \n",
      "...                       ...              ...  ...      ...   \n",
      "1408                      0.0              0.0  ...      0.0   \n",
      "1409                      0.0              0.0  ...      0.0   \n",
      "1410                      0.0              0.0  ...      0.0   \n",
      "1411                      0.0              0.0  ...      0.0   \n",
      "1412                      0.0              0.0  ...      0.0   \n",
      "\n",
      "      西裝褲、裙 dress pants、skirt  外套 Jacket  吊帶褲/裙 overalls/jumper skirt  \\\n",
      "0                         0.0        0.0                          0.0   \n",
      "1                         0.0        0.0                          0.0   \n",
      "2                         0.0        0.0                          0.0   \n",
      "3                         1.0        0.0                          0.0   \n",
      "4                         0.0        0.0                          0.0   \n",
      "...                       ...        ...                          ...   \n",
      "1408                      1.0        0.0                          0.0   \n",
      "1409                      1.0        0.0                          0.0   \n",
      "1410                      0.0        1.0                          0.0   \n",
      "1411                      0.0        0.0                          0.0   \n",
      "1412                      0.0        0.0                          0.0   \n",
      "\n",
      "      運動材質 Sport Tops  Shirt  毛衣、針織衣 Sweater  上半身 Top  緊身褲 leggings  褲子 pants  \n",
      "0                 0.0    0.0             0.0      1.0           0.0       0.0  \n",
      "1                 0.0    1.0             0.0      1.0           0.0       0.0  \n",
      "2                 0.0    0.0             0.0      0.0           0.0       0.0  \n",
      "3                 0.0    0.0             0.0      0.0           0.0       1.0  \n",
      "4                 0.0    0.0             0.0      0.0           0.0       0.0  \n",
      "...               ...    ...             ...      ...           ...       ...  \n",
      "1408              0.0    0.0             0.0      0.0           0.0       1.0  \n",
      "1409              0.0    0.0             0.0      0.0           0.0       1.0  \n",
      "1410              0.0    0.0             0.0      1.0           0.0       0.0  \n",
      "1411              0.0    0.0             0.0      0.0           0.0       1.0  \n",
      "1412              0.0    0.0             0.0      0.0           0.0       1.0  \n",
      "\n",
      "[1413 rows x 28 columns]\n"
     ]
    }
   ],
   "source": [
    "for index, row in df.iterrows():\n",
    "    for fea in all_features:\n",
    "        has = 0\n",
    "        for col in possible_columns:\n",
    "            str = df.loc[index, col]\n",
    "            try:\n",
    "                str = list(str.split(\",\"))\n",
    "                for s in str:\n",
    "                    s = s.rstrip()\n",
    "                    s = s.lstrip()\n",
    "                    if (\n",
    "                        s == \"針織衣 Sweater\"\n",
    "                        or s == \"毛衣 Sweater\"\n",
    "                        or s == \"針/織衣 Sweater\"\n",
    "                    ):\n",
    "                        s = \"毛衣、針織衣 Sweater\"\n",
    "                    if s == \"西裝褲 dress pants\":\n",
    "                        str.append(\"褲子 pants\")\n",
    "                        s = \"西裝褲、裙 dress pants、skirt\"\n",
    "                    if s == fea:\n",
    "                        has = 1\n",
    "            except:\n",
    "                pass\n",
    "        df2.loc[index, fea] = has\n",
    "\n",
    "\n",
    "print(df2)"
   ]
  },
  {
   "cell_type": "code",
   "execution_count": 26,
   "metadata": {},
   "outputs": [],
   "source": [
    "for index, row in df2.iterrows():\n",
    "    image_url = row[\"照片 Picture\"]  # 從表單中的照片 URL 讀取\n",
    "\n",
    "    if re.search(r\"open\\?id=\", image_url):\n",
    "        output = f\"image_{index:05}.jpg\"\n",
    "        df2.loc[index, \"照片 Picture\"] = output\n",
    "df2.to_csv(processed_csv)"
   ]
  },
  {
   "cell_type": "markdown",
   "metadata": {},
   "source": [
    "# check image downloaded or not"
   ]
  },
  {
   "cell_type": "code",
   "execution_count": null,
   "metadata": {},
   "outputs": [],
   "source": [
    "def download_image(image_url, path):\n",
    "    file_id = image_url.split(\"open?id=\")[-1]\n",
    "    url = f\"https://drive.google.com/uc?export=download&id={file_id}\"\n",
    "    gdown.download(url, path, quiet=False)"
   ]
  },
  {
   "cell_type": "code",
   "execution_count": null,
   "metadata": {},
   "outputs": [
    {
     "name": "stdout",
     "output_type": "stream",
     "text": [
      "download  0  from  https://drive.google.com/open?id=1Ki8gALrL6WEyGeBkwZQdO5J5pfnufz37\n"
     ]
    },
    {
     "name": "stderr",
     "output_type": "stream",
     "text": [
      "Downloading...\n",
      "From: https://drive.google.com/uc?export=download&id=1Ki8gALrL6WEyGeBkwZQdO5J5pfnufz37\n",
      "To: c:\\Users\\doo12\\OneDrive\\桌面\\ML\\finalProject\\ClothesPredicting\\clothes_data\\image_00000.jpg\n",
      "100%|██████████| 19.3k/19.3k [00:00<00:00, 472kB/s]\n"
     ]
    },
    {
     "name": "stdout",
     "output_type": "stream",
     "text": [
      "download  1  from  https://drive.google.com/open?id=1rsB7XhHjAww6w9RjucSgiJSnkEO5r_PL\n"
     ]
    },
    {
     "name": "stderr",
     "output_type": "stream",
     "text": [
      "Downloading...\n",
      "From: https://drive.google.com/uc?export=download&id=1rsB7XhHjAww6w9RjucSgiJSnkEO5r_PL\n",
      "To: c:\\Users\\doo12\\OneDrive\\桌面\\ML\\finalProject\\ClothesPredicting\\clothes_data\\image_00001.jpg\n",
      "100%|██████████| 29.4k/29.4k [00:00<00:00, 865kB/s]\n"
     ]
    },
    {
     "name": "stdout",
     "output_type": "stream",
     "text": [
      "download  2  from  https://drive.google.com/open?id=1BEUPTgjmZ0uZS5Llj5Btd8xOw-oxyeuW\n"
     ]
    },
    {
     "name": "stderr",
     "output_type": "stream",
     "text": [
      "Downloading...\n",
      "From: https://drive.google.com/uc?export=download&id=1BEUPTgjmZ0uZS5Llj5Btd8xOw-oxyeuW\n",
      "To: c:\\Users\\doo12\\OneDrive\\桌面\\ML\\finalProject\\ClothesPredicting\\clothes_data\\image_00002.jpg\n",
      "100%|██████████| 28.2k/28.2k [00:00<00:00, 400kB/s]\n"
     ]
    },
    {
     "name": "stdout",
     "output_type": "stream",
     "text": [
      "download  3  from  https://drive.google.com/open?id=12MW0xvZVVNVoMt-YUGUnPVzg_v_Z5-F-\n"
     ]
    },
    {
     "name": "stderr",
     "output_type": "stream",
     "text": [
      "Downloading...\n",
      "From: https://drive.google.com/uc?export=download&id=12MW0xvZVVNVoMt-YUGUnPVzg_v_Z5-F-\n",
      "To: c:\\Users\\doo12\\OneDrive\\桌面\\ML\\finalProject\\ClothesPredicting\\clothes_data\\image_00003.jpg\n",
      "100%|██████████| 27.5k/27.5k [00:00<00:00, 399kB/s]\n"
     ]
    },
    {
     "name": "stdout",
     "output_type": "stream",
     "text": [
      "download  4  from  https://drive.google.com/open?id=1rj0PNtlTPp5O0Vur_aymMQkDBP4y7Iv6\n"
     ]
    },
    {
     "name": "stderr",
     "output_type": "stream",
     "text": [
      "Downloading...\n",
      "From: https://drive.google.com/uc?export=download&id=1rj0PNtlTPp5O0Vur_aymMQkDBP4y7Iv6\n",
      "To: c:\\Users\\doo12\\OneDrive\\桌面\\ML\\finalProject\\ClothesPredicting\\clothes_data\\image_00004.jpg\n",
      "100%|██████████| 18.7k/18.7k [00:00<00:00, 701kB/s]\n"
     ]
    },
    {
     "name": "stdout",
     "output_type": "stream",
     "text": [
      "download  5  from  https://drive.google.com/open?id=1_yRapskmxZj4dERJUO5pND4RjambTjBh\n"
     ]
    }
   ],
   "source": [
    "for index, row in df2.iterrows():\n",
    "    output = f\"image_{index:05}.jpg\"\n",
    "    path = os.path.join(clothes_folder, output)\n",
    "    if not os.path.exists(path):\n",
    "        image_url = df.loc[index, \"照片 Picture\"]\n",
    "        print(\"download \", index, \" from \", image_url)\n",
    "        download_image(image_url, path)"
   ]
  }
 ],
 "metadata": {
  "kernelspec": {
   "display_name": "Python 3",
   "language": "python",
   "name": "python3"
  },
  "language_info": {
   "codemirror_mode": {
    "name": "ipython",
    "version": 3
   },
   "file_extension": ".py",
   "mimetype": "text/x-python",
   "name": "python",
   "nbconvert_exporter": "python",
   "pygments_lexer": "ipython3",
   "version": "3.12.7"
  }
 },
 "nbformat": 4,
 "nbformat_minor": 2
}
