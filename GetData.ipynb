{
 "cells": [
  {
   "cell_type": "code",
   "execution_count": 114,
   "metadata": {},
   "outputs": [],
   "source": [
    "import gdown\n",
    "import pandas as pd\n",
    "import os\n",
    "import csv\n",
    "import re"
   ]
  },
  {
   "cell_type": "code",
   "execution_count": 115,
   "metadata": {},
   "outputs": [],
   "source": [
    "def download_csv():\n",
    "    sheet_url = \"https://docs.google.com/spreadsheets/d/1vYD9nyEoI2CEWu2UY2xpedC_4mX3TUVD-XLCjOLphiA/export?format=csv\"\n",
    "\n",
    "    # Load the CSV into a DataFrame\n",
    "    df = pd.read_csv(sheet_url)\n",
    "    df.to_csv('form.csv')\n",
    "    # print(df)"
   ]
  },
  {
   "cell_type": "code",
   "execution_count": 116,
   "metadata": {},
   "outputs": [],
   "source": [
    "download_csv()"
   ]
  },
  {
   "cell_type": "code",
   "execution_count": 117,
   "metadata": {},
   "outputs": [],
   "source": [
    "original_csv = 'form.csv'\n",
    "processed_csv = 'processed.csv'\n",
    "clothes_folder = 'clothes_data'\n",
    "start_index = 0\n",
    "end_index = 10"
   ]
  },
  {
   "cell_type": "code",
   "execution_count": 118,
   "metadata": {},
   "outputs": [],
   "source": [
    "df = pd.read_csv(original_csv)\n",
    "df = df.loc[:, ~df.columns.str.contains('^Unnamed')]\n",
    "df2 = df.drop('時間戳記', axis=1)\n",
    "\n",
    "for index, row in df2.iterrows():\n",
    "    image_url = row['照片 Picture']  # 從表單中的照片 URL 讀取\n",
    "\n",
    "    if re.search(r\"open\\?id=\", image_url):\n",
    "        output = f\"image_{index:05}.jpg\"\n",
    "        df2.loc[index, '照片 Picture'] = output\n",
    "df2.to_csv(processed_csv)\n"
   ]
  },
  {
   "cell_type": "markdown",
   "metadata": {},
   "source": [
    "# check image downloaded or not"
   ]
  },
  {
   "cell_type": "code",
   "execution_count": 119,
   "metadata": {},
   "outputs": [],
   "source": [
    "def download_image(image_url, path):\n",
    "    file_id = image_url.split('open?id=')[-1]\n",
    "    url = f\"https://drive.google.com/uc?export=download&id={file_id}\"\n",
    "    gdown.download(url, path, quiet=False)"
   ]
  },
  {
   "cell_type": "code",
   "execution_count": null,
   "metadata": {},
   "outputs": [
    {
     "name": "stdout",
     "output_type": "stream",
     "text": [
      "download  0  from  https://drive.google.com/open?id=1Ki8gALrL6WEyGeBkwZQdO5J5pfnufz37\n"
     ]
    },
    {
     "name": "stderr",
     "output_type": "stream",
     "text": [
      "Downloading...\n",
      "From: https://drive.google.com/uc?export=download&id=1Ki8gALrL6WEyGeBkwZQdO5J5pfnufz37\n",
      "To: c:\\Users\\doo12\\OneDrive\\桌面\\ML\\finalProject\\ClothesPredicting\\clothes_data\\image_00000.jpg\n",
      "100%|██████████| 19.3k/19.3k [00:00<00:00, 472kB/s]\n"
     ]
    },
    {
     "name": "stdout",
     "output_type": "stream",
     "text": [
      "download  1  from  https://drive.google.com/open?id=1rsB7XhHjAww6w9RjucSgiJSnkEO5r_PL\n"
     ]
    },
    {
     "name": "stderr",
     "output_type": "stream",
     "text": [
      "Downloading...\n",
      "From: https://drive.google.com/uc?export=download&id=1rsB7XhHjAww6w9RjucSgiJSnkEO5r_PL\n",
      "To: c:\\Users\\doo12\\OneDrive\\桌面\\ML\\finalProject\\ClothesPredicting\\clothes_data\\image_00001.jpg\n",
      "100%|██████████| 29.4k/29.4k [00:00<00:00, 865kB/s]\n"
     ]
    },
    {
     "name": "stdout",
     "output_type": "stream",
     "text": [
      "download  2  from  https://drive.google.com/open?id=1BEUPTgjmZ0uZS5Llj5Btd8xOw-oxyeuW\n"
     ]
    },
    {
     "name": "stderr",
     "output_type": "stream",
     "text": [
      "Downloading...\n",
      "From: https://drive.google.com/uc?export=download&id=1BEUPTgjmZ0uZS5Llj5Btd8xOw-oxyeuW\n",
      "To: c:\\Users\\doo12\\OneDrive\\桌面\\ML\\finalProject\\ClothesPredicting\\clothes_data\\image_00002.jpg\n",
      "100%|██████████| 28.2k/28.2k [00:00<00:00, 400kB/s]\n"
     ]
    },
    {
     "name": "stdout",
     "output_type": "stream",
     "text": [
      "download  3  from  https://drive.google.com/open?id=12MW0xvZVVNVoMt-YUGUnPVzg_v_Z5-F-\n"
     ]
    },
    {
     "name": "stderr",
     "output_type": "stream",
     "text": [
      "Downloading...\n",
      "From: https://drive.google.com/uc?export=download&id=12MW0xvZVVNVoMt-YUGUnPVzg_v_Z5-F-\n",
      "To: c:\\Users\\doo12\\OneDrive\\桌面\\ML\\finalProject\\ClothesPredicting\\clothes_data\\image_00003.jpg\n",
      "100%|██████████| 27.5k/27.5k [00:00<00:00, 399kB/s]\n"
     ]
    },
    {
     "name": "stdout",
     "output_type": "stream",
     "text": [
      "download  4  from  https://drive.google.com/open?id=1rj0PNtlTPp5O0Vur_aymMQkDBP4y7Iv6\n"
     ]
    },
    {
     "name": "stderr",
     "output_type": "stream",
     "text": [
      "Downloading...\n",
      "From: https://drive.google.com/uc?export=download&id=1rj0PNtlTPp5O0Vur_aymMQkDBP4y7Iv6\n",
      "To: c:\\Users\\doo12\\OneDrive\\桌面\\ML\\finalProject\\ClothesPredicting\\clothes_data\\image_00004.jpg\n",
      "100%|██████████| 18.7k/18.7k [00:00<00:00, 701kB/s]\n"
     ]
    },
    {
     "name": "stdout",
     "output_type": "stream",
     "text": [
      "download  5  from  https://drive.google.com/open?id=1_yRapskmxZj4dERJUO5pND4RjambTjBh\n"
     ]
    }
   ],
   "source": [
    "for index, row in df2.iterrows():\n",
    "    output = f\"image_{index:05}.jpg\"\n",
    "    path = os.path.join(clothes_folder, output)\n",
    "    if(not os.path.exists(path)):\n",
    "        image_url = df.loc[index, '照片 Picture']\n",
    "        print('download ', index, ' from ',image_url)\n",
    "        download_image(image_url, path)"
   ]
  }
 ],
 "metadata": {
  "kernelspec": {
   "display_name": "Python 3",
   "language": "python",
   "name": "python3"
  },
  "language_info": {
   "codemirror_mode": {
    "name": "ipython",
    "version": 3
   },
   "file_extension": ".py",
   "mimetype": "text/x-python",
   "name": "python",
   "nbconvert_exporter": "python",
   "pygments_lexer": "ipython3",
   "version": "3.10.11"
  }
 },
 "nbformat": 4,
 "nbformat_minor": 2
}
