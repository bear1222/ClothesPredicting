{
 "cells": [
  {
   "cell_type": "code",
   "execution_count": 32,
   "metadata": {},
   "outputs": [],
   "source": [
    "import gdown\n",
    "import pandas as pd\n",
    "import os\n",
    "import csv\n",
    "import re"
   ]
  },
  {
   "cell_type": "code",
   "execution_count": 33,
   "metadata": {},
   "outputs": [],
   "source": [
    "def download_csv():\n",
    "    sheet_url = \"https://docs.google.com/spreadsheets/d/1vYD9nyEoI2CEWu2UY2xpedC_4mX3TUVD-XLCjOLphiA/export?format=csv\"\n",
    "\n",
    "    # Load the CSV into a DataFrame\n",
    "    df = pd.read_csv(sheet_url)\n",
    "    df.to_csv(\"form.csv\")\n",
    "    # print(df)"
   ]
  },
  {
   "cell_type": "code",
   "execution_count": 34,
   "metadata": {},
   "outputs": [],
   "source": [
    "download_csv()"
   ]
  },
  {
   "cell_type": "code",
   "execution_count": 35,
   "metadata": {},
   "outputs": [],
   "source": [
    "original_csv = \"form.csv\"\n",
    "processed_csv = \"processed.csv\"\n",
    "clothes_folder = \"clothes_data\"\n",
    "possible_columns = [\n",
    "    \"服裝部位 Clothing Part\",\n",
    "    \"上半身 衣服種類 Top Clothing Type\",\n",
    "    \"下半身衣服種類 Bottom Clothing Type\",\n",
    "]"
   ]
  },
  {
   "cell_type": "code",
   "execution_count": 36,
   "metadata": {},
   "outputs": [],
   "source": [
    "df = pd.read_csv(original_csv)\n",
    "df = df.loc[:, ~df.columns.str.contains(\"^Unnamed\")]\n",
    "df2 = df.drop(\"時間戳記\", axis=1)\n",
    "for col in possible_columns:\n",
    "    df2 = df2.drop(col, axis=1)"
   ]
  },
  {
   "cell_type": "code",
   "execution_count": 37,
   "metadata": {},
   "outputs": [
    {
     "name": "stdout",
     "output_type": "stream",
     "text": [
      "Shirt\n",
      "羽絨衣 Down coat / jacket\n",
      "百褶裙 pleated skirt\n",
      "網紗 Mesh\n",
      "吊帶褲/裙 overalls/jumper skirt\n",
      "毛衣、針織衣 Sweater\n",
      "褲子 pants\n",
      "牛仔材質 Denim\n",
      "工裝褲/裙 cargo pants/skirt\n",
      "緊身褲 leggings\n",
      "牛仔褲/裙 jeans / demi skirt\n",
      "洋裝 Dress\n",
      "外套 Jacket\n",
      "西裝 Suit\n",
      "上半身 Top\n",
      "運動褲/裙 sweat pants / sports skirt\n",
      "休閒褲/裙 casual pants/skirt\n",
      "連帽衣 Hoodie\n",
      "背心 Vest\n",
      "T-Shirt\n",
      "運動材質 Sport Tops\n",
      "下半身 Bottom\n",
      "西裝褲、裙 dress pants、skirt\n",
      "裙子 skirt\n",
      "24\n"
     ]
    }
   ],
   "source": [
    "# get all feature\n",
    "all_features = []\n",
    "for index, row in df.iterrows():\n",
    "    for col in possible_columns:\n",
    "        str = df.loc[index, col]\n",
    "        try:\n",
    "            str = list(str.split(\",\"))\n",
    "            for s in str:\n",
    "                s = s.rstrip()\n",
    "                s = s.lstrip()\n",
    "                if (\n",
    "                    s == \"針織衣 Sweater\"\n",
    "                    or s == \"毛衣 Sweater\"\n",
    "                    or s == \"針/織衣 Sweater\"\n",
    "                    or s == \"毛衣、針/織衣 Sweater\"\n",
    "                ):\n",
    "                    s = \"毛衣、針織衣 Sweater\"\n",
    "                if s == \"西裝褲 dress pants\":\n",
    "                    str.append(\"褲子 pants\")\n",
    "                    s = \"西裝褲、裙 dress pants、skirt\"\n",
    "                all_features.append(s)\n",
    "        except:\n",
    "            pass\n",
    "all_features = list(set(all_features))\n",
    "for f in all_features:\n",
    "    print(f)\n",
    "print(len(all_features))\n",
    "\n",
    "feature_df = pd.DataFrame({\"name\": all_features})\n",
    "feature_df.to_csv(\"feature_list.csv\")"
   ]
  },
  {
   "cell_type": "code",
   "execution_count": 38,
   "metadata": {},
   "outputs": [
    {
     "name": "stdout",
     "output_type": "stream",
     "text": [
      "                                             照片 Picture    品牌 Brand  \\\n",
      "0     https://drive.google.com/open?id=1Ki8gALrL6WEy...         H&M   \n",
      "1     https://drive.google.com/open?id=1rsB7XhHjAww6...         H&M   \n",
      "2     https://drive.google.com/open?id=1BEUPTgjmZ0uZ...         H&M   \n",
      "3     https://drive.google.com/open?id=12MW0xvZVVNVo...         H&M   \n",
      "4     https://drive.google.com/open?id=1rj0PNtlTPp5O...         H&M   \n",
      "...                                                 ...         ...   \n",
      "3241  https://drive.google.com/open?id=1QgxQuXE6-9UD...  Timberland   \n",
      "3242  https://drive.google.com/open?id=1K9MRFTE-9vQX...  Timberland   \n",
      "3243  https://drive.google.com/open?id=1Xu8rl1Brd5J4...  Timberland   \n",
      "3244  https://drive.google.com/open?id=1gUB9zkZhJt3f...  Timberland   \n",
      "3245  https://drive.google.com/open?id=1HdvwRzT047SG...  Timberland   \n",
      "\n",
      "     衣服長度 Clothes Length  價格 Price  Shirt  羽絨衣 Down coat / jacket  \\\n",
      "0                短 short       499    0.0                     0.0   \n",
      "1                 長 long       999    1.0                     0.0   \n",
      "2                 長 long       699    0.0                     0.0   \n",
      "3                 長 long       999    0.0                     0.0   \n",
      "4                 長 long       699    0.0                     0.0   \n",
      "...                  ...       ...    ...                     ...   \n",
      "3241              長 long      3600    0.0                     0.0   \n",
      "3242              長 long      3600    0.0                     0.0   \n",
      "3243              長 long      4900    0.0                     0.0   \n",
      "3244              長 long      3400    0.0                     0.0   \n",
      "3245              長 long      3400    0.0                     0.0   \n",
      "\n",
      "      百褶裙 pleated skirt  網紗 Mesh  吊帶褲/裙 overalls/jumper skirt  毛衣、針織衣 Sweater  \\\n",
      "0                   0.0      0.0                          0.0             0.0   \n",
      "1                   0.0      0.0                          0.0             0.0   \n",
      "2                   0.0      0.0                          0.0             0.0   \n",
      "3                   0.0      0.0                          0.0             0.0   \n",
      "4                   0.0      0.0                          0.0             0.0   \n",
      "...                 ...      ...                          ...             ...   \n",
      "3241                0.0      0.0                          0.0             0.0   \n",
      "3242                0.0      0.0                          0.0             0.0   \n",
      "3243                0.0      0.0                          0.0             0.0   \n",
      "3244                0.0      0.0                          0.0             0.0   \n",
      "3245                0.0      0.0                          0.0             0.0   \n",
      "\n",
      "      ...  上半身 Top  運動褲/裙 sweat pants / sports skirt  \\\n",
      "0     ...      1.0                               0.0   \n",
      "1     ...      1.0                               0.0   \n",
      "2     ...      0.0                               0.0   \n",
      "3     ...      0.0                               0.0   \n",
      "4     ...      0.0                               0.0   \n",
      "...   ...      ...                               ...   \n",
      "3241  ...      0.0                               0.0   \n",
      "3242  ...      0.0                               0.0   \n",
      "3243  ...      0.0                               1.0   \n",
      "3244  ...      0.0                               0.0   \n",
      "3245  ...      0.0                               0.0   \n",
      "\n",
      "      休閒褲/裙 casual pants/skirt  連帽衣 Hoodie  背心 Vest  T-Shirt  運動材質 Sport Tops  \\\n",
      "0                          0.0         0.0      0.0      1.0              0.0   \n",
      "1                          0.0         0.0      0.0      0.0              0.0   \n",
      "2                          0.0         0.0      0.0      0.0              0.0   \n",
      "3                          0.0         0.0      0.0      0.0              0.0   \n",
      "4                          0.0         0.0      0.0      0.0              0.0   \n",
      "...                        ...         ...      ...      ...              ...   \n",
      "3241                       1.0         0.0      0.0      0.0              0.0   \n",
      "3242                       1.0         0.0      0.0      0.0              0.0   \n",
      "3243                       1.0         0.0      0.0      0.0              0.0   \n",
      "3244                       1.0         0.0      0.0      0.0              0.0   \n",
      "3245                       1.0         0.0      0.0      0.0              0.0   \n",
      "\n",
      "      下半身 Bottom  西裝褲、裙 dress pants、skirt  裙子 skirt  \n",
      "0            0.0                      0.0       0.0  \n",
      "1            0.0                      0.0       0.0  \n",
      "2            0.0                      0.0       0.0  \n",
      "3            1.0                      1.0       0.0  \n",
      "4            1.0                      0.0       0.0  \n",
      "...          ...                      ...       ...  \n",
      "3241         1.0                      0.0       0.0  \n",
      "3242         1.0                      0.0       0.0  \n",
      "3243         1.0                      0.0       0.0  \n",
      "3244         1.0                      0.0       0.0  \n",
      "3245         1.0                      0.0       0.0  \n",
      "\n",
      "[3246 rows x 28 columns]\n"
     ]
    }
   ],
   "source": [
    "for index, row in df.iterrows():\n",
    "    for fea in all_features:\n",
    "        has = 0\n",
    "        for col in possible_columns:\n",
    "            str = df.loc[index, col]\n",
    "            try:\n",
    "                str = list(str.split(\",\"))\n",
    "                for s in str:\n",
    "                    s = s.rstrip()\n",
    "                    s = s.lstrip()\n",
    "                    if (\n",
    "                        s == \"針織衣 Sweater\"\n",
    "                        or s == \"毛衣 Sweater\"\n",
    "                        or s == \"針/織衣 Sweater\"\n",
    "                        or s == \"毛衣、針/織衣 Sweater\"\n",
    "                    ):\n",
    "                        s = \"毛衣、針織衣 Sweater\"\n",
    "                    if s == \"西裝褲 dress pants\":\n",
    "                        str.append(\"褲子 pants\")\n",
    "                        s = \"西裝褲、裙 dress pants、skirt\"\n",
    "                    if s == fea:\n",
    "                        has = 1\n",
    "            except:\n",
    "                pass\n",
    "        df2.loc[index, fea] = has\n",
    "\n",
    "\n",
    "print(df2)"
   ]
  },
  {
   "cell_type": "code",
   "execution_count": 39,
   "metadata": {},
   "outputs": [],
   "source": [
    "for index, row in df2.iterrows():\n",
    "    image_url = row[\"照片 Picture\"]  # 從表單中的照片 URL 讀取\n",
    "\n",
    "    if re.search(r\"open\\?id=\", image_url):\n",
    "        output = f\"image_{index:05}.jpg\"\n",
    "        df2.loc[index, \"照片 Picture\"] = output\n",
    "df2.to_csv(processed_csv)"
   ]
  },
  {
   "cell_type": "markdown",
   "metadata": {},
   "source": [
    "# check image downloaded or not"
   ]
  },
  {
   "cell_type": "code",
   "execution_count": 40,
   "metadata": {},
   "outputs": [],
   "source": [
    "def download_image(image_url, path):\n",
    "    file_id = image_url.split(\"open?id=\")[-1]\n",
    "    url = f\"https://drive.google.com/uc?export=download&id={file_id}\"\n",
    "    gdown.download(url, path, quiet=False)"
   ]
  },
  {
   "cell_type": "code",
   "execution_count": 41,
   "metadata": {},
   "outputs": [],
   "source": [
    "for index, row in df2.iterrows():\n",
    "    output = f\"image_{index:05}.jpg\"\n",
    "    path = os.path.join(clothes_folder, output)\n",
    "    if not os.path.exists(path):\n",
    "        image_url = df.loc[index, \"照片 Picture\"]\n",
    "        print(\"download \", index, \" from \", image_url)\n",
    "        download_image(image_url, path)"
   ]
  }
 ],
 "metadata": {
  "kernelspec": {
   "display_name": "Python 3",
   "language": "python",
   "name": "python3"
  },
  "language_info": {
   "codemirror_mode": {
    "name": "ipython",
    "version": 3
   },
   "file_extension": ".py",
   "mimetype": "text/x-python",
   "name": "python",
   "nbconvert_exporter": "python",
   "pygments_lexer": "ipython3",
   "version": "3.10.11"
  }
 },
 "nbformat": 4,
 "nbformat_minor": 2
}
