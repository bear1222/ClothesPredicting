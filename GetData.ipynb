{
 "cells": [
  {
   "cell_type": "code",
   "execution_count": 11,
   "metadata": {},
   "outputs": [],
   "source": [
    "import gdown\n",
    "import pandas as pd\n",
    "import os\n",
    "import csv\n",
    "import re"
   ]
  },
  {
   "cell_type": "code",
   "execution_count": 12,
   "metadata": {},
   "outputs": [],
   "source": [
    "def download_csv():\n",
    "    sheet_url = \"https://docs.google.com/spreadsheets/d/1vYD9nyEoI2CEWu2UY2xpedC_4mX3TUVD-XLCjOLphiA/export?format=csv\"\n",
    "\n",
    "    # Load the CSV into a DataFrame\n",
    "    df = pd.read_csv(sheet_url)\n",
    "    df.to_csv(\"form.csv\")\n",
    "    # print(df)"
   ]
  },
  {
   "cell_type": "code",
   "execution_count": 13,
   "metadata": {},
   "outputs": [],
   "source": [
    "download_csv()"
   ]
  },
  {
   "cell_type": "code",
   "execution_count": 14,
   "metadata": {},
   "outputs": [],
   "source": [
    "original_csv = \"form.csv\"\n",
    "processed_csv = \"processed.csv\"\n",
    "clothes_folder = \"clothes_data\"\n",
    "possible_columns = [\n",
    "    \"服裝部位 Clothing Part\",\n",
    "    \"上半身 衣服種類 Top Clothing Type\",\n",
    "    \"下半身衣服種類 Bottom Clothing Type\",\n",
    "]"
   ]
  },
  {
   "cell_type": "code",
   "execution_count": 15,
   "metadata": {},
   "outputs": [],
   "source": [
    "df = pd.read_csv(original_csv)\n",
    "df = df.loc[:, ~df.columns.str.contains(\"^Unnamed\")]\n",
    "df2 = df.drop(\"時間戳記\", axis=1)\n",
    "for col in possible_columns:\n",
    "    df2 = df2.drop(col, axis=1)"
   ]
  },
  {
   "cell_type": "code",
   "execution_count": null,
   "metadata": {},
   "outputs": [
    {
     "name": "stdout",
     "output_type": "stream",
     "text": [
      "Shirt\n",
      "T-Shirt\n",
      "上半身 Top\n",
      "下半身 Bottom\n",
      "休閒褲/裙 casual pants/skirt\n",
      "吊帶褲/裙 overalls/jumper skirt\n",
      "外套 Jacket\n",
      "工裝褲/裙 cargo pants/skirt\n",
      "毛衣、針/織衣 Sweater\n",
      "毛衣、針織衣 Sweater\n",
      "洋裝 Dress\n",
      "牛仔材質 Denim\n",
      "牛仔褲/裙 jeans / demi skirt\n",
      "百褶裙 pleated skirt\n",
      "網紗 Mesh\n",
      "緊身褲 leggings\n",
      "羽絨衣 Down coat / jacket\n",
      "背心 Vest\n",
      "裙子 skirt\n",
      "褲子 pants\n",
      "西裝 Suit\n",
      "西裝褲、裙 dress pants、skirt\n",
      "連帽衣 Hoodie\n",
      "運動材質 Sport Tops\n",
      "運動褲/裙 sweat pants / sports skirt\n",
      "25\n"
     ]
    }
   ],
   "source": [
    "# get all feature\n",
    "all_features = []\n",
    "for index, row in df.iterrows():\n",
    "    for col in possible_columns:\n",
    "        str = df.loc[index, col]\n",
    "        try:\n",
    "            str = list(str.split(\",\"))\n",
    "            for s in str:\n",
    "                s = s.rstrip()\n",
    "                s = s.lstrip()\n",
    "                if (\n",
    "                    s == \"針織衣 Sweater\"\n",
    "                    or s == \"毛衣 Sweater\"\n",
    "                    or s == \"針/織衣 Sweater\"\n",
    "                    or s == \"毛衣、針/織衣 Sweater\"\n",
    "                ):\n",
    "                    s = \"毛衣、針織衣 Sweater\"\n",
    "                if s == \"西裝褲 dress pants\":\n",
    "                    str.append(\"褲子 pants\")\n",
    "                    s = \"西裝褲、裙 dress pants、skirt\"\n",
    "                all_features.append(s)\n",
    "        except:\n",
    "            pass\n",
    "all_features = sorted(list(set(all_features)))\n",
    "for f in all_features:\n",
    "    print(f)\n",
    "print(len(all_features))\n",
    "\n",
    "feature_df = pd.DataFrame({\"name\": all_features})\n",
    "feature_df.to_csv(\"feature_list.csv\")"
   ]
  },
  {
   "cell_type": "code",
   "execution_count": 27,
   "metadata": {},
   "outputs": [
    {
     "name": "stdout",
     "output_type": "stream",
     "text": [
      "           brand\n",
      "0     50 percent\n",
      "1      AIR SPACE\n",
      "2         Adidas\n",
      "3           Caco\n",
      "4            GAP\n",
      "5            H&M\n",
      "6          Lativ\n",
      "7            Net\n",
      "8    New Balance\n",
      "9           Nike\n",
      "10         PAZZO\n",
      "11          Puma\n",
      "12    Queen Shop\n",
      "13    Timberland\n",
      "14  Under Armour\n",
      "15        Uniqlo\n"
     ]
    }
   ],
   "source": [
    "# get add brands\n",
    "brand_col = \"品牌 Brand\"\n",
    "brand_list = sorted(list(set(df[brand_col])))\n",
    "brand_df = pd.DataFrame({\"brand\": brand_list})\n",
    "print(brand_df)\n",
    "brand_df.to_csv(\"brand_list.csv\")"
   ]
  },
  {
   "cell_type": "code",
   "execution_count": 17,
   "metadata": {},
   "outputs": [
    {
     "name": "stdout",
     "output_type": "stream",
     "text": [
      "                                             照片 Picture    品牌 Brand  \\\n",
      "0     https://drive.google.com/open?id=1Ki8gALrL6WEy...         H&M   \n",
      "1     https://drive.google.com/open?id=1rsB7XhHjAww6...         H&M   \n",
      "2     https://drive.google.com/open?id=1BEUPTgjmZ0uZ...         H&M   \n",
      "3     https://drive.google.com/open?id=12MW0xvZVVNVo...         H&M   \n",
      "4     https://drive.google.com/open?id=1rj0PNtlTPp5O...         H&M   \n",
      "...                                                 ...         ...   \n",
      "3590  https://drive.google.com/open?id=1X7qZt19nhPIn...  Timberland   \n",
      "3591  https://drive.google.com/open?id=1LCt2PWB4C4DN...       Lativ   \n",
      "3592  https://drive.google.com/open?id=1GTS3b5a3obAq...       Lativ   \n",
      "3593  https://drive.google.com/open?id=1gqY_GU5N9L6A...       Lativ   \n",
      "3594  https://drive.google.com/open?id=1sMJ2aWpLk0Ve...       Lativ   \n",
      "\n",
      "     衣服長度 Clothes Length  價格 Price  毛衣、針織衣 Sweater  緊身褲 leggings  \\\n",
      "0                短 short       499             0.0           0.0   \n",
      "1                 長 long       999             0.0           0.0   \n",
      "2                 長 long       699             0.0           0.0   \n",
      "3                 長 long       999             0.0           0.0   \n",
      "4                 長 long       699             0.0           0.0   \n",
      "...                  ...       ...             ...           ...   \n",
      "3590              長 long      7500             0.0           0.0   \n",
      "3591             短 short       499             0.0           0.0   \n",
      "3592             短 short       399             0.0           0.0   \n",
      "3593             短 short       499             0.0           0.0   \n",
      "3594             短 short       299             0.0           0.0   \n",
      "\n",
      "      牛仔褲/裙 jeans / demi skirt  下半身 Bottom  西裝 Suit  上半身 Top  ...  T-Shirt  \\\n",
      "0                          0.0         0.0      0.0      1.0  ...      1.0   \n",
      "1                          0.0         0.0      0.0      1.0  ...      0.0   \n",
      "2                          0.0         0.0      0.0      0.0  ...      0.0   \n",
      "3                          0.0         1.0      0.0      0.0  ...      0.0   \n",
      "4                          0.0         1.0      0.0      0.0  ...      0.0   \n",
      "...                        ...         ...      ...      ...  ...      ...   \n",
      "3590                       0.0         0.0      0.0      1.0  ...      0.0   \n",
      "3591                       1.0         1.0      0.0      0.0  ...      0.0   \n",
      "3592                       1.0         1.0      0.0      0.0  ...      0.0   \n",
      "3593                       1.0         1.0      0.0      0.0  ...      0.0   \n",
      "3594                       1.0         1.0      0.0      0.0  ...      0.0   \n",
      "\n",
      "      牛仔材質 Denim  背心 Vest  毛衣、針/織衣 Sweater  網紗 Mesh  西裝褲、裙 dress pants、skirt  \\\n",
      "0            0.0      0.0              0.0      0.0                      0.0   \n",
      "1            0.0      0.0              0.0      0.0                      0.0   \n",
      "2            0.0      0.0              0.0      0.0                      0.0   \n",
      "3            0.0      0.0              0.0      0.0                      1.0   \n",
      "4            0.0      0.0              0.0      0.0                      0.0   \n",
      "...          ...      ...              ...      ...                      ...   \n",
      "3590         0.0      0.0              0.0      0.0                      0.0   \n",
      "3591         0.0      0.0              0.0      0.0                      0.0   \n",
      "3592         0.0      0.0              0.0      0.0                      0.0   \n",
      "3593         0.0      0.0              0.0      0.0                      0.0   \n",
      "3594         0.0      0.0              0.0      0.0                      0.0   \n",
      "\n",
      "      Shirt  連帽衣 Hoodie  休閒褲/裙 casual pants/skirt  百褶裙 pleated skirt  \n",
      "0       0.0         0.0                       0.0                0.0  \n",
      "1       1.0         0.0                       0.0                0.0  \n",
      "2       0.0         0.0                       0.0                0.0  \n",
      "3       0.0         0.0                       0.0                0.0  \n",
      "4       0.0         0.0                       0.0                0.0  \n",
      "...     ...         ...                       ...                ...  \n",
      "3590    0.0         1.0                       0.0                0.0  \n",
      "3591    0.0         0.0                       0.0                0.0  \n",
      "3592    0.0         0.0                       0.0                0.0  \n",
      "3593    0.0         0.0                       0.0                0.0  \n",
      "3594    0.0         0.0                       0.0                0.0  \n",
      "\n",
      "[3595 rows x 29 columns]\n"
     ]
    }
   ],
   "source": [
    "for index, row in df.iterrows():\n",
    "    for fea in all_features:\n",
    "        has = 0\n",
    "        for col in possible_columns:\n",
    "            str = df.loc[index, col]\n",
    "            try:\n",
    "                str = list(str.split(\",\"))\n",
    "                for s in str:\n",
    "                    s = s.rstrip()\n",
    "                    s = s.lstrip()\n",
    "                    if (\n",
    "                        s == \"針織衣 Sweater\"\n",
    "                        or s == \"毛衣 Sweater\"\n",
    "                        or s == \"針/織衣 Sweater\"\n",
    "                    ):\n",
    "                        s = \"毛衣、針織衣 Sweater\"\n",
    "                    if s == \"西裝褲 dress pants\":\n",
    "                        str.append(\"褲子 pants\")\n",
    "                        s = \"西裝褲、裙 dress pants、skirt\"\n",
    "                    if s == fea:\n",
    "                        has = 1\n",
    "            except:\n",
    "                pass\n",
    "        df2.loc[index, fea] = has\n",
    "\n",
    "\n",
    "print(df2)"
   ]
  },
  {
   "cell_type": "code",
   "execution_count": 18,
   "metadata": {},
   "outputs": [],
   "source": [
    "for index, row in df2.iterrows():\n",
    "    image_url = row[\"照片 Picture\"]  # 從表單中的照片 URL 讀取\n",
    "\n",
    "    if re.search(r\"open\\?id=\", image_url):\n",
    "        output = f\"image_{index:05}.jpg\"\n",
    "        df2.loc[index, \"照片 Picture\"] = output\n",
    "df2.to_csv(processed_csv)"
   ]
  },
  {
   "cell_type": "markdown",
   "metadata": {},
   "source": [
    "# check image downloaded or not"
   ]
  },
  {
   "cell_type": "code",
   "execution_count": 19,
   "metadata": {},
   "outputs": [],
   "source": [
    "def download_image(image_url, path):\n",
    "    file_id = image_url.split(\"open?id=\")[-1]\n",
    "    url = f\"https://drive.google.com/uc?export=download&id={file_id}\"\n",
    "    gdown.download(url, path, quiet=False)"
   ]
  },
  {
   "cell_type": "code",
   "execution_count": 20,
   "metadata": {},
   "outputs": [],
   "source": [
    "for index, row in df2.iterrows():\n",
    "    output = f\"image_{index:05}.jpg\"\n",
    "    path = os.path.join(clothes_folder, output)\n",
    "    if not os.path.exists(path):\n",
    "        image_url = df.loc[index, \"照片 Picture\"]\n",
    "        print(\"download \", index, \" from \", image_url)\n",
    "        download_image(image_url, path)"
   ]
  }
 ],
 "metadata": {
  "kernelspec": {
   "display_name": "Python 3",
   "language": "python",
   "name": "python3"
  },
  "language_info": {
   "codemirror_mode": {
    "name": "ipython",
    "version": 3
   },
   "file_extension": ".py",
   "mimetype": "text/x-python",
   "name": "python",
   "nbconvert_exporter": "python",
   "pygments_lexer": "ipython3",
   "version": "3.12.7"
  }
 },
 "nbformat": 4,
 "nbformat_minor": 2
}
