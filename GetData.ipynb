{
 "cells": [
  {
   "cell_type": "code",
   "execution_count": 9,
   "metadata": {},
   "outputs": [],
   "source": [
    "import gdown\n",
    "import pandas as pd\n",
    "import os\n",
    "import csv\n",
    "import re"
   ]
  },
  {
   "cell_type": "code",
   "execution_count": 10,
   "metadata": {},
   "outputs": [],
   "source": [
    "def download_csv():\n",
    "    sheet_url = \"https://docs.google.com/spreadsheets/d/1vYD9nyEoI2CEWu2UY2xpedC_4mX3TUVD-XLCjOLphiA/export?format=csv\"\n",
    "\n",
    "    # Load the CSV into a DataFrame\n",
    "    df = pd.read_csv(sheet_url)\n",
    "    df.to_csv(\"form.csv\")\n",
    "    # print(df)"
   ]
  },
  {
   "cell_type": "code",
   "execution_count": 11,
   "metadata": {},
   "outputs": [],
   "source": [
    "# download_csv()"
   ]
  },
  {
   "cell_type": "code",
   "execution_count": 12,
   "metadata": {},
   "outputs": [],
   "source": [
    "original_csv = \"form.csv\"\n",
    "processed_csv = \"processed.csv\"\n",
    "clothes_folder = \"clothes_data\"\n",
    "start_index = 0\n",
    "end_index = 10"
   ]
  },
  {
   "cell_type": "code",
   "execution_count": 13,
   "metadata": {},
   "outputs": [],
   "source": [
    "df = pd.read_csv(original_csv)\n",
    "df = df.loc[:, ~df.columns.str.contains(\"^Unnamed\")]\n",
    "df2 = df.drop(\"時間戳記\", axis=1)\n",
    "\n",
    "for index, row in df2.iterrows():\n",
    "    image_url = row[\"照片 Picture\"]  # 從表單中的照片 URL 讀取\n",
    "\n",
    "    if re.search(r\"open\\?id=\", image_url):\n",
    "        output = f\"image_{index:05}.jpg\"\n",
    "        df2.loc[index, \"照片 Picture\"] = output\n",
    "df2.to_csv(processed_csv)"
   ]
  },
  {
   "cell_type": "markdown",
   "metadata": {},
   "source": [
    "# check image downloaded or not"
   ]
  },
  {
   "cell_type": "code",
   "execution_count": 14,
   "metadata": {},
   "outputs": [],
   "source": [
    "def download_image(image_url, path):\n",
    "    file_id = image_url.split(\"open?id=\")[-1]\n",
    "    url = f\"https://drive.google.com/uc?export=download&id={file_id}&confirm=t\"\n",
    "    gdown.download(url, path, quiet=False)"
   ]
  },
  {
   "cell_type": "code",
   "execution_count": 15,
   "metadata": {},
   "outputs": [],
   "source": [
    "for index, row in df2.iterrows():\n",
    "    output = f\"image_{index:05}.jpg\"\n",
    "    path = os.path.join(clothes_folder, output)\n",
    "    if not os.path.exists(path):\n",
    "        try:\n",
    "            image_url = df.loc[index, \"照片 Picture\"]\n",
    "            print(\"download \", index, \" from \", image_url)\n",
    "            download_image(image_url, path)\n",
    "        except Exception as e:\n",
    "            print(\"error: \", e)"
   ]
  }
 ],
 "metadata": {
  "kernelspec": {
   "display_name": "Python 3",
   "language": "python",
   "name": "python3"
  },
  "language_info": {
   "codemirror_mode": {
    "name": "ipython",
    "version": 3
   },
   "file_extension": ".py",
   "mimetype": "text/x-python",
   "name": "python",
   "nbconvert_exporter": "python",
   "pygments_lexer": "ipython3",
   "version": "3.10.11"
  }
 },
 "nbformat": 4,
 "nbformat_minor": 2
}
