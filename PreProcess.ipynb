{
 "cells": [
  {
   "cell_type": "markdown",
   "id": "39c76a8f",
   "metadata": {},
   "source": [
    "# Enhanced Preprocessing Notebook\n",
    "This notebook is designed for large-scale data preprocessing with advanced augmentations. It includes options for batch processing to test on smaller subsets of data."
   ]
  },
  {
   "cell_type": "code",
   "execution_count": 14,
   "id": "418f7a76",
   "metadata": {},
   "outputs": [],
   "source": [
    "# Import necessary libraries\n",
    "import os\n",
    "from PIL import Image, ImageOps, ImageFilter\n",
    "import requests\n",
    "from io import BytesIO\n",
    "import pandas as pd\n",
    "import numpy as np\n",
    "import random\n",
    "from torchvision import models, transforms\n",
    "from torchvision.transforms import functional as F\n"
   ]
  },
  {
   "cell_type": "code",
   "execution_count": 21,
   "id": "850ca387",
   "metadata": {},
   "outputs": [],
   "source": [
    "# Configure directories and parameters\n",
    "final_folder = 'final_data'\n",
    "clothes_folder = 'clothes_data'\n",
    "preprocessed_folder = 'preprocessed_data'\n",
    "desired_size = (512, 512)\n",
    "background_color = (0, 0, 0)\n",
    "os.makedirs(final_folder, exist_ok=True)\n",
    "os.makedirs(clothes_folder, exist_ok=True)\n",
    "os.makedirs(preprocessed_folder, exist_ok=True)\n",
    "\n",
    "# Load Google form data\n",
    "df = pd.read_csv('google_form_data.csv')\n"
   ]
  },
  {
   "cell_type": "code",
   "execution_count": 22,
   "id": "913b5b37",
   "metadata": {},
   "outputs": [],
   "source": [
    "# Helper functions\n",
    "def convert_drive_url_to_downloadable(url):\n",
    "    if 'open?id=' in url:\n",
    "        file_id = url.split('open?id=')[-1]\n",
    "        return f\"https://drive.google.com/uc?export=download&id={file_id}\"\n",
    "    elif 'file/d/' in url:\n",
    "        file_id = url.split('file/d/')[-1].split('/view')[0]\n",
    "        return f\"https://drive.google.com/uc?export=download&id={file_id}\"\n",
    "    else:\n",
    "        return url\n",
    "\n",
    "# Function to blur the background\n",
    "def blur_background(img, radius=10):\n",
    "    blurred_img = img.filter(ImageFilter.GaussianBlur(radius=radius))\n",
    "    return blurred_img\n"
   ]
  },
  {
   "cell_type": "code",
   "execution_count": 23,
   "id": "d2a33084",
   "metadata": {},
   "outputs": [],
   "source": [
    "# Data augmentation functions\n",
    "def preprocess_image(img, output_dir, image_name):\n",
    "    # Save original image\n",
    "    img.save(os.path.join(output_dir, f\"{image_name}_original.jpg\"))\n",
    "\n",
    "    # Randomly blur background\n",
    "    blurred_img = blur_background(img, radius=1.5)\n",
    "    blurred_img.save(os.path.join(output_dir, f\"{image_name}_blurred.jpg\"))\n",
    "\n",
    "    # Rotate randomly\n",
    "    rotated_img = img.rotate(random.uniform(-30, 30))\n",
    "    rotated_img.save(os.path.join(output_dir, f\"{image_name}_rotated.jpg\"))\n",
    "\n",
    "    # Flip horizontally\n",
    "    flipped_img = img.transpose(Image.FLIP_LEFT_RIGHT)\n",
    "    flipped_img.save(os.path.join(output_dir, f\"{image_name}_flipped.jpg\"))\n",
    "\n",
    "    # Adjust brightness\n",
    "    bright_img = F.adjust_brightness(img, brightness_factor=random.uniform(0.8, 1.5))\n",
    "    bright_img.save(os.path.join(output_dir, f\"{image_name}_bright.jpg\"))\n",
    "\n",
    "    # Add Gaussian noise\n",
    "    noisy_img = np.array(img) + np.random.normal(0, 15, np.array(img).shape)\n",
    "    noisy_img = Image.fromarray(np.clip(noisy_img, 0, 255).astype(np.uint8))\n",
    "    noisy_img.save(os.path.join(output_dir, f\"{image_name}_noisy.jpg\"))\n",
    "\n",
    "    # Crop and resize\n",
    "    crop_width, crop_height = random.randint(300, 512), random.randint(300, 512)\n",
    "    cropped_img = img.crop((0, 0, crop_width, crop_height))\n",
    "    cropped_resized_img = cropped_img.resize((512, 512), Image.LANCZOS)\n",
    "    cropped_resized_img.save(os.path.join(output_dir, f\"{image_name}_cropped.jpg\"))"
   ]
  },
  {
   "cell_type": "code",
   "execution_count": 24,
   "id": "30af28b3",
   "metadata": {},
   "outputs": [],
   "source": [
    "# Main processing loop with batch functionality\n",
    "def process_batch(df, batch_size=100):\n",
    "    for index, row in df.head(batch_size).iterrows():\n",
    "        image_url = row['照片 Picture']\n",
    "        download_url = convert_drive_url_to_downloadable(image_url)\n",
    "        try:\n",
    "            response = requests.get(download_url)\n",
    "            img = Image.open(BytesIO(response.content)).convert('RGB')\n",
    "            img.thumbnail(desired_size, Image.LANCZOS)\n",
    "            delta_w = desired_size[0] - img.size[0]\n",
    "            delta_h = desired_size[1] - img.size[1]\n",
    "            padded_img = ImageOps.expand(img, (delta_w // 2, delta_h // 2, delta_w-delta_w//2, delta_h-delta_h//2), background_color)\n",
    "            final_filename = f\"image_{index}.jpg\"\n",
    "            padded_img.save(os.path.join(clothes_folder, final_filename))\n",
    "            preprocess_image(padded_img, preprocessed_folder, f\"image_{index}\")\n",
    "        except Exception as e:\n",
    "            print(f\"Error processing {download_url}: {e}\")"
   ]
  },
  {
   "cell_type": "code",
   "execution_count": 25,
   "id": "823565a0",
   "metadata": {},
   "outputs": [],
   "source": [
    "# Run batch processing\n",
    "batch_size = 30  # Specify the number of samples to process\n",
    "process_batch(df, batch_size=batch_size)\n"
   ]
  },
  {
   "cell_type": "code",
   "execution_count": 26,
   "id": "519c249b",
   "metadata": {},
   "outputs": [],
   "source": [
    "# Save updated metadata\n",
    "new_rows = []\n",
    "for index, row in df.iterrows():\n",
    "    image_name = f\"image_{index}\"\n",
    "    for variant in [\"original\", \"blurred\", \"rotated\", \"flipped\", \"bright\", \"noisy\", \"cropped\"]:\n",
    "        new_row = row.copy()\n",
    "        new_row['照片 Picture'] = f\"{image_name}_{variant}.jpg\"\n",
    "        new_rows.append(new_row)\n",
    "\n",
    "new_df = pd.DataFrame(new_rows)\n",
    "new_df.to_csv('updated_google_form_data.csv', index=False)"
   ]
  }
 ],
 "metadata": {
  "language_info": {
   "name": "python"
  }
 },
 "nbformat": 4,
 "nbformat_minor": 5
}
