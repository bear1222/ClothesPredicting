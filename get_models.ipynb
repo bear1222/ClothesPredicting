{
 "cells": [
  {
   "cell_type": "code",
   "execution_count": 3,
   "metadata": {},
   "outputs": [],
   "source": [
    "import gdown\n",
    "import pandas as pd\n",
    "import os\n",
    "import csv\n",
    "import re"
   ]
  },
  {
   "cell_type": "code",
   "execution_count": null,
   "metadata": {},
   "outputs": [],
   "source": [
    "csv_name = \"model_form.csv\"\n",
    "model_folder = \"models\""
   ]
  },
  {
   "cell_type": "code",
   "execution_count": 4,
   "metadata": {},
   "outputs": [],
   "source": [
    "def download_csv():\n",
    "    sheet_url = \"https://docs.google.com/spreadsheets/d/1odpx2I3DF3dYCjr9KbBUDVNLC3UcuInGY94B360cbp0/export?format=csv\"\n",
    "\n",
    "    # Load the CSV into a DataFrame\n",
    "    df = pd.read_csv(sheet_url)\n",
    "    df.to_csv(\"model_form.csv\")\n",
    "    # print(df)"
   ]
  },
  {
   "cell_type": "code",
   "execution_count": 5,
   "metadata": {},
   "outputs": [],
   "source": [
    "download_csv()"
   ]
  },
  {
   "cell_type": "code",
   "execution_count": 11,
   "metadata": {},
   "outputs": [
    {
     "name": "stdout",
     "output_type": "stream",
     "text": [
      "                             record                      name     acc\n",
      "0   model_feature_0_0.keras: 0.9289   model_feature_0_0.keras  0.9289\n",
      "1  model_feature_12_0.keras: 0.9691  model_feature_12_0.keras  0.9691\n",
      "2  model_feature_13_0.keras: 0.9923  model_feature_13_0.keras  0.9923\n",
      "3  model_feature_14_0.keras: 0.9675  model_feature_14_0.keras  0.9675\n",
      "4  model_feature_15_0.keras: 0.9923  model_feature_15_0.keras  0.9923\n"
     ]
    }
   ],
   "source": [
    "df = pd.read_csv(csv_name)\n",
    "df = df.loc[:, ~df.columns.str.contains(\"^Unnamed\")]\n",
    "\n",
    "df[[\"name\", \"acc\"]] = df[\"record\"].str.split(\": \", expand=True)\n",
    "df[\"acc\"] = df[\"acc\"].astype(float)\n",
    "\n",
    "print(df)"
   ]
  }
 ],
 "metadata": {
  "kernelspec": {
   "display_name": "Python 3",
   "language": "python",
   "name": "python3"
  },
  "language_info": {
   "codemirror_mode": {
    "name": "ipython",
    "version": 3
   },
   "file_extension": ".py",
   "mimetype": "text/x-python",
   "name": "python",
   "nbconvert_exporter": "python",
   "pygments_lexer": "ipython3",
   "version": "3.12.7"
  }
 },
 "nbformat": 4,
 "nbformat_minor": 2
}
